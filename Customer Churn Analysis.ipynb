{
 "cells": [
  {
   "cell_type": "code",
   "execution_count": 44,
   "metadata": {},
   "outputs": [],
   "source": [
    "import pandas as pd\n",
    "from datasets import load_dataset\n",
    "import matplotlib.pyplot as plt \n",
    "import seaborn as sns \n",
    "sns.set_style(\"whitegrid\")\n",
    "\n",
    "df = pd.read_csv(r\"C:\\Users\\Jatin\\Downloads\\dirty_telco_data.csv\")\n",
    "\n"
   ]
  },
  {
   "cell_type": "code",
   "execution_count": 45,
   "metadata": {},
   "outputs": [
    {
     "data": {
      "text/html": [
       "<div>\n",
       "<style scoped>\n",
       "    .dataframe tbody tr th:only-of-type {\n",
       "        vertical-align: middle;\n",
       "    }\n",
       "\n",
       "    .dataframe tbody tr th {\n",
       "        vertical-align: top;\n",
       "    }\n",
       "\n",
       "    .dataframe thead th {\n",
       "        text-align: right;\n",
       "    }\n",
       "</style>\n",
       "<table border=\"1\" class=\"dataframe\">\n",
       "  <thead>\n",
       "    <tr style=\"text-align: right;\">\n",
       "      <th></th>\n",
       "      <th>customerID</th>\n",
       "      <th>gender</th>\n",
       "      <th>SeniorCitizen</th>\n",
       "      <th>Partner</th>\n",
       "      <th>Dependents</th>\n",
       "      <th>tenure</th>\n",
       "      <th>PhoneService</th>\n",
       "      <th>MultipleLines</th>\n",
       "      <th>InternetService</th>\n",
       "      <th>OnlineSecurity</th>\n",
       "      <th>...</th>\n",
       "      <th>DeviceProtection</th>\n",
       "      <th>TechSupport</th>\n",
       "      <th>StreamingTV</th>\n",
       "      <th>StreamingMovies</th>\n",
       "      <th>Contract</th>\n",
       "      <th>PaperlessBilling</th>\n",
       "      <th>PaymentMethod</th>\n",
       "      <th>MonthlyCharges</th>\n",
       "      <th>TotalCharges</th>\n",
       "      <th>Churn</th>\n",
       "    </tr>\n",
       "  </thead>\n",
       "  <tbody>\n",
       "    <tr>\n",
       "      <th>0</th>\n",
       "      <td>ID1</td>\n",
       "      <td>male</td>\n",
       "      <td>0</td>\n",
       "      <td>yes</td>\n",
       "      <td>Yes</td>\n",
       "      <td>50.0</td>\n",
       "      <td>NO</td>\n",
       "      <td>NaN</td>\n",
       "      <td>DSL</td>\n",
       "      <td>No</td>\n",
       "      <td>...</td>\n",
       "      <td>Yes</td>\n",
       "      <td>Yes</td>\n",
       "      <td>No internet service</td>\n",
       "      <td>Yes</td>\n",
       "      <td>One year</td>\n",
       "      <td>Yes</td>\n",
       "      <td>Mailed check</td>\n",
       "      <td>82.29</td>\n",
       "      <td>4685.71</td>\n",
       "      <td>Yes</td>\n",
       "    </tr>\n",
       "    <tr>\n",
       "      <th>1</th>\n",
       "      <td>ID2</td>\n",
       "      <td>FEMALE</td>\n",
       "      <td>1</td>\n",
       "      <td>NO</td>\n",
       "      <td>Yes</td>\n",
       "      <td>53.0</td>\n",
       "      <td>Yes</td>\n",
       "      <td>No phone service</td>\n",
       "      <td>No</td>\n",
       "      <td>No internet service</td>\n",
       "      <td>...</td>\n",
       "      <td>No</td>\n",
       "      <td>Yes</td>\n",
       "      <td>No internet service</td>\n",
       "      <td>No internet service</td>\n",
       "      <td>Month-to-month</td>\n",
       "      <td>No</td>\n",
       "      <td>Credit card (automatic)</td>\n",
       "      <td>116.80</td>\n",
       "      <td>4471.56</td>\n",
       "      <td>Unknown</td>\n",
       "    </tr>\n",
       "    <tr>\n",
       "      <th>2</th>\n",
       "      <td>ID3</td>\n",
       "      <td>Male</td>\n",
       "      <td>1</td>\n",
       "      <td>yes</td>\n",
       "      <td>NaN</td>\n",
       "      <td>7.0</td>\n",
       "      <td>No</td>\n",
       "      <td>No</td>\n",
       "      <td>No</td>\n",
       "      <td>Yes</td>\n",
       "      <td>...</td>\n",
       "      <td>No internet service</td>\n",
       "      <td>No</td>\n",
       "      <td>No</td>\n",
       "      <td>Yes</td>\n",
       "      <td>Month-to-month</td>\n",
       "      <td>Yes</td>\n",
       "      <td>Mailed check</td>\n",
       "      <td>109.04</td>\n",
       "      <td>8967.39</td>\n",
       "      <td>Yes</td>\n",
       "    </tr>\n",
       "    <tr>\n",
       "      <th>3</th>\n",
       "      <td>ID4</td>\n",
       "      <td>male</td>\n",
       "      <td>1</td>\n",
       "      <td>Yes</td>\n",
       "      <td>No</td>\n",
       "      <td>26.0</td>\n",
       "      <td>NO</td>\n",
       "      <td>Yes</td>\n",
       "      <td>DSL</td>\n",
       "      <td>Yes</td>\n",
       "      <td>...</td>\n",
       "      <td>No internet service</td>\n",
       "      <td>No internet service</td>\n",
       "      <td>No internet service</td>\n",
       "      <td>No</td>\n",
       "      <td>Two year</td>\n",
       "      <td>No</td>\n",
       "      <td>Credit card (automatic)</td>\n",
       "      <td>83.24</td>\n",
       "      <td>8087.18</td>\n",
       "      <td>No</td>\n",
       "    </tr>\n",
       "    <tr>\n",
       "      <th>4</th>\n",
       "      <td>ID5</td>\n",
       "      <td>male</td>\n",
       "      <td>1</td>\n",
       "      <td>NO</td>\n",
       "      <td>No</td>\n",
       "      <td>26.0</td>\n",
       "      <td>No</td>\n",
       "      <td>NaN</td>\n",
       "      <td>NaN</td>\n",
       "      <td>No</td>\n",
       "      <td>...</td>\n",
       "      <td>No internet service</td>\n",
       "      <td>Yes</td>\n",
       "      <td>No internet service</td>\n",
       "      <td>No internet service</td>\n",
       "      <td>Month-to-month</td>\n",
       "      <td>Yes</td>\n",
       "      <td>Mailed check</td>\n",
       "      <td>87.91</td>\n",
       "      <td>4224.09</td>\n",
       "      <td>Unknown</td>\n",
       "    </tr>\n",
       "  </tbody>\n",
       "</table>\n",
       "<p>5 rows × 21 columns</p>\n",
       "</div>"
      ],
      "text/plain": [
       "  customerID   gender  SeniorCitizen Partner Dependents  tenure PhoneService  \\\n",
       "0        ID1    male               0     yes        Yes    50.0           NO   \n",
       "1        ID2   FEMALE              1      NO        Yes    53.0          Yes   \n",
       "2        ID3     Male              1     yes        NaN     7.0           No   \n",
       "3        ID4    male               1     Yes         No    26.0           NO   \n",
       "4        ID5    male               1      NO         No    26.0           No   \n",
       "\n",
       "      MultipleLines InternetService       OnlineSecurity  ...  \\\n",
       "0               NaN             DSL                   No  ...   \n",
       "1  No phone service              No  No internet service  ...   \n",
       "2                No              No                  Yes  ...   \n",
       "3               Yes             DSL                  Yes  ...   \n",
       "4               NaN             NaN                   No  ...   \n",
       "\n",
       "      DeviceProtection          TechSupport          StreamingTV  \\\n",
       "0                  Yes                  Yes  No internet service   \n",
       "1                   No                  Yes  No internet service   \n",
       "2  No internet service                   No                   No   \n",
       "3  No internet service  No internet service  No internet service   \n",
       "4  No internet service                  Yes  No internet service   \n",
       "\n",
       "       StreamingMovies        Contract PaperlessBilling  \\\n",
       "0                  Yes        One year              Yes   \n",
       "1  No internet service  Month-to-month               No   \n",
       "2                  Yes  Month-to-month              Yes   \n",
       "3                   No        Two year               No   \n",
       "4  No internet service  Month-to-month              Yes   \n",
       "\n",
       "             PaymentMethod MonthlyCharges  TotalCharges    Churn  \n",
       "0             Mailed check          82.29       4685.71      Yes  \n",
       "1  Credit card (automatic)         116.80       4471.56  Unknown  \n",
       "2             Mailed check         109.04       8967.39      Yes  \n",
       "3  Credit card (automatic)          83.24       8087.18       No  \n",
       "4             Mailed check          87.91       4224.09  Unknown  \n",
       "\n",
       "[5 rows x 21 columns]"
      ]
     },
     "execution_count": 45,
     "metadata": {},
     "output_type": "execute_result"
    }
   ],
   "source": [
    "df.head()"
   ]
  },
  {
   "cell_type": "code",
   "execution_count": 47,
   "metadata": {},
   "outputs": [
    {
     "name": "stdout",
     "output_type": "stream",
     "text": [
      "<class 'pandas.core.frame.DataFrame'>\n",
      "RangeIndex: 105 entries, 0 to 104\n",
      "Data columns (total 21 columns):\n",
      " #   Column            Non-Null Count  Dtype  \n",
      "---  ------            --------------  -----  \n",
      " 0   customerID        105 non-null    object \n",
      " 1   gender            105 non-null    object \n",
      " 2   SeniorCitizen     105 non-null    int64  \n",
      " 3   Partner           105 non-null    object \n",
      " 4   Dependents        68 non-null     object \n",
      " 5   tenure            100 non-null    float64\n",
      " 6   PhoneService      105 non-null    object \n",
      " 7   MultipleLines     75 non-null     object \n",
      " 8   InternetService   82 non-null     object \n",
      " 9   OnlineSecurity    105 non-null    object \n",
      " 10  OnlineBackup      105 non-null    object \n",
      " 11  DeviceProtection  105 non-null    object \n",
      " 12  TechSupport       105 non-null    object \n",
      " 13  StreamingTV       105 non-null    object \n",
      " 14  StreamingMovies   105 non-null    object \n",
      " 15  Contract          105 non-null    object \n",
      " 16  PaperlessBilling  105 non-null    object \n",
      " 17  PaymentMethod     105 non-null    object \n",
      " 18  MonthlyCharges    105 non-null    float64\n",
      " 19  TotalCharges      103 non-null    object \n",
      " 20  Churn             78 non-null     object \n",
      "dtypes: float64(2), int64(1), object(18)\n",
      "memory usage: 17.4+ KB\n"
     ]
    },
    {
     "data": {
      "text/plain": [
       "customerID           0\n",
       "gender               0\n",
       "SeniorCitizen        0\n",
       "Partner              0\n",
       "Dependents          37\n",
       "tenure               5\n",
       "PhoneService         0\n",
       "MultipleLines       30\n",
       "InternetService     23\n",
       "OnlineSecurity       0\n",
       "OnlineBackup         0\n",
       "DeviceProtection     0\n",
       "TechSupport          0\n",
       "StreamingTV          0\n",
       "StreamingMovies      0\n",
       "Contract             0\n",
       "PaperlessBilling     0\n",
       "PaymentMethod        0\n",
       "MonthlyCharges       0\n",
       "TotalCharges         2\n",
       "Churn               27\n",
       "dtype: int64"
      ]
     },
     "execution_count": 47,
     "metadata": {},
     "output_type": "execute_result"
    }
   ],
   "source": [
    "df.info()\n",
    "df.isnull().sum()"
   ]
  },
  {
   "cell_type": "code",
   "execution_count": 50,
   "metadata": {},
   "outputs": [
    {
     "data": {
      "text/plain": [
       "customerID           object\n",
       "gender               object\n",
       "SeniorCitizen         int64\n",
       "Partner              object\n",
       "Dependents           object\n",
       "tenure              float64\n",
       "PhoneService         object\n",
       "MultipleLines        object\n",
       "InternetService      object\n",
       "OnlineSecurity       object\n",
       "OnlineBackup         object\n",
       "DeviceProtection     object\n",
       "TechSupport          object\n",
       "StreamingTV          object\n",
       "StreamingMovies      object\n",
       "Contract             object\n",
       "PaperlessBilling     object\n",
       "PaymentMethod        object\n",
       "MonthlyCharges      float64\n",
       "TotalCharges         object\n",
       "Churn                object\n",
       "dtype: object"
      ]
     },
     "execution_count": 50,
     "metadata": {},
     "output_type": "execute_result"
    }
   ],
   "source": [
    "df.dtypes"
   ]
  },
  {
   "cell_type": "code",
   "execution_count": 54,
   "metadata": {},
   "outputs": [
    {
     "name": "stdout",
     "output_type": "stream",
     "text": [
      "\n",
      "Unique values in customerID:\n",
      "['ID1' 'ID2' 'ID3' 'ID4' 'ID5' 'ID6' 'ID7' 'ID8' 'ID9' 'ID10' 'ID11'\n",
      " 'ID12' 'ID13' 'ID14' 'ID15' 'ID16' 'ID17' 'ID18' 'ID19' 'ID20' 'ID21'\n",
      " 'ID22' 'ID23' 'ID24' 'ID25' 'ID26' 'ID27' 'ID28' 'ID29' 'ID30' 'ID31'\n",
      " 'ID32' 'ID33' 'ID34' 'ID35' 'ID36' 'ID37' 'ID38' 'ID39' 'ID40' 'ID41'\n",
      " 'ID42' 'ID43' 'ID44' 'ID45' 'ID46' 'ID47' 'ID48' 'ID49' 'ID50' 'ID51'\n",
      " 'ID52' 'ID53' 'ID54' 'ID55' 'ID56' 'ID57' 'ID58' 'ID59' 'ID60' 'ID61'\n",
      " 'ID62' 'ID63' 'ID64' 'ID65' 'ID66' 'ID67' 'ID68' 'ID69' 'ID70' 'ID71'\n",
      " 'ID72' 'ID73' 'ID74' 'ID75' 'ID76' 'ID77' 'ID78' 'ID79' 'ID80' 'ID81'\n",
      " 'ID82' 'ID83' 'ID84' 'ID85' 'ID86' 'ID87' 'ID88' 'ID89' 'ID90' 'ID91'\n",
      " 'ID92' 'ID93' 'ID94' 'ID95' 'ID96' 'ID97' 'ID98' 'ID99' 'ID100']\n",
      "\n",
      "Unique values in gender:\n",
      "['male ' ' FEMALE' 'Male' 'Female']\n",
      "\n",
      "Unique values in Partner:\n",
      "['yes' 'NO' 'Yes' 'No']\n",
      "\n",
      "Unique values in Dependents:\n",
      "['Yes' nan 'No']\n",
      "\n",
      "Unique values in PhoneService:\n",
      "['NO' 'Yes' 'No' 'yes']\n",
      "\n",
      "Unique values in MultipleLines:\n",
      "[nan 'No phone service' 'No' 'Yes']\n",
      "\n",
      "Unique values in InternetService:\n",
      "['DSL' 'No' nan 'Fiber optic']\n",
      "\n",
      "Unique values in OnlineSecurity:\n",
      "['No' 'No internet service' 'Yes']\n",
      "\n",
      "Unique values in OnlineBackup:\n",
      "['No internet service' 'Yes' 'No']\n",
      "\n",
      "Unique values in DeviceProtection:\n",
      "['Yes' 'No' 'No internet service']\n",
      "\n",
      "Unique values in TechSupport:\n",
      "['Yes' 'No' 'No internet service']\n",
      "\n",
      "Unique values in StreamingTV:\n",
      "['No internet service' 'No' 'Yes']\n",
      "\n",
      "Unique values in StreamingMovies:\n",
      "['Yes' 'No internet service' 'No']\n",
      "\n",
      "Unique values in Contract:\n",
      "['One year' 'Month-to-month' 'Two year']\n",
      "\n",
      "Unique values in PaperlessBilling:\n",
      "['Yes' 'No']\n",
      "\n",
      "Unique values in PaymentMethod:\n",
      "['Mailed check' 'Credit card (automatic)' 'Bank transfer (automatic)'\n",
      " 'Electronic check']\n",
      "\n",
      "Unique values in TotalCharges:\n",
      "['4685.71' '4471.56' '8967.39' '8087.18' '4224.09' '5644.14' '6756.06'\n",
      " '410.3' '8064.8' '7755.13' '4171.15' '3581.41' '2529.34' '4342.42'\n",
      " '494.95' '7684.52' '415.26' '3028.56' '8391.15' '6643.39' '2604.38'\n",
      " '2348.58' '145.23' '6291.86' '534.17' '4840.16' '8662.89' '1074.27'\n",
      " '8060.87' '8924.13' '647.5' '7957.87' '4693.1' '8167.97' '5184.74'\n",
      " '5992.8' '4939.63' '7793.99' '6631.8' '4739.22' '7826.63' '2283.04'\n",
      " '1500.33' '1527.56' '3072.68' '2224.34' '8377.8' '1041.92' '6321.02'\n",
      " '1784.07' '7946.57' '8655.71' '4242.68' '7923.74' '145.79' '7397.53'\n",
      " '2134.76' '8187.44' '109.97' '5050.02' '6834.06' '2402.33' '1818.88'\n",
      " '848.47' '3005.26' '5082.61' '1131.01' '3452.59' '180.74' '7386.25'\n",
      " '1243.19' '2621.75' '264.01' '3946.94' '7577.08' '3590.15' '1697.53'\n",
      " '6807.92' '7120.38' '1646.41' '6960.6' '8530.95' '1580.76' '6961.76'\n",
      " '6406.29' '4314.81' '615.49' '764.78' '7686.49' '8912.32' '6116.87'\n",
      " '4069.03' '5863.41' '5390.12' '3514.15' ' ' 'error' nan]\n",
      "\n",
      "Unique values in Churn:\n",
      "['Yes' 'Unknown' 'No' nan]\n"
     ]
    }
   ],
   "source": [
    "for col in df.select_dtypes(include=\"object\").columns:\n",
    "    print(f\"\\nUnique values in {col}:\")\n",
    "    print(df[col].unique())"
   ]
  },
  {
   "cell_type": "code",
   "execution_count": null,
   "metadata": {},
   "outputs": [],
   "source": [
    "df[\"tenure\"].fillna(0, inplace=True)\n",
    "df.fillna(\"Unknown\", inplace=True)"
   ]
  },
  {
   "cell_type": "code",
   "execution_count": 62,
   "metadata": {},
   "outputs": [],
   "source": [
    "df.drop_duplicates(inplace=True)"
   ]
  },
  {
   "cell_type": "code",
   "execution_count": 63,
   "metadata": {},
   "outputs": [],
   "source": [
    "df = df.apply(lambda x: x.str.strip().str.lower() if x.dtype == \"object\" else x)"
   ]
  },
  {
   "cell_type": "code",
   "execution_count": null,
   "metadata": {},
   "outputs": [],
   "source": [
    "\n",
    "df[\"TotalCharges\"] = pd.to_numeric(df[\"TotalCharges\"], errors=\"coerce\")\n",
    "\n",
    "df[\"TotalCharges\"].fillna(df[\"TotalCharges\"].median(), inplace=True)\n"
   ]
  },
  {
   "cell_type": "code",
   "execution_count": 66,
   "metadata": {},
   "outputs": [
    {
     "name": "stdout",
     "output_type": "stream",
     "text": [
      "<class 'pandas.core.frame.DataFrame'>\n",
      "Index: 100 entries, 0 to 99\n",
      "Data columns (total 21 columns):\n",
      " #   Column            Non-Null Count  Dtype  \n",
      "---  ------            --------------  -----  \n",
      " 0   customerID        100 non-null    object \n",
      " 1   gender            100 non-null    object \n",
      " 2   SeniorCitizen     100 non-null    int64  \n",
      " 3   Partner           100 non-null    object \n",
      " 4   Dependents        100 non-null    object \n",
      " 5   tenure            100 non-null    float64\n",
      " 6   PhoneService      100 non-null    object \n",
      " 7   MultipleLines     100 non-null    object \n",
      " 8   InternetService   100 non-null    object \n",
      " 9   OnlineSecurity    100 non-null    object \n",
      " 10  OnlineBackup      100 non-null    object \n",
      " 11  DeviceProtection  100 non-null    object \n",
      " 12  TechSupport       100 non-null    object \n",
      " 13  StreamingTV       100 non-null    object \n",
      " 14  StreamingMovies   100 non-null    object \n",
      " 15  Contract          100 non-null    object \n",
      " 16  PaperlessBilling  100 non-null    object \n",
      " 17  PaymentMethod     100 non-null    object \n",
      " 18  MonthlyCharges    100 non-null    float64\n",
      " 19  TotalCharges      100 non-null    float64\n",
      " 20  Churn             100 non-null    object \n",
      "dtypes: float64(3), int64(1), object(17)\n",
      "memory usage: 17.2+ KB\n"
     ]
    },
    {
     "data": {
      "text/plain": [
       "customerID          0\n",
       "gender              0\n",
       "SeniorCitizen       0\n",
       "Partner             0\n",
       "Dependents          0\n",
       "tenure              0\n",
       "PhoneService        0\n",
       "MultipleLines       0\n",
       "InternetService     0\n",
       "OnlineSecurity      0\n",
       "OnlineBackup        0\n",
       "DeviceProtection    0\n",
       "TechSupport         0\n",
       "StreamingTV         0\n",
       "StreamingMovies     0\n",
       "Contract            0\n",
       "PaperlessBilling    0\n",
       "PaymentMethod       0\n",
       "MonthlyCharges      0\n",
       "TotalCharges        0\n",
       "Churn               0\n",
       "dtype: int64"
      ]
     },
     "execution_count": 66,
     "metadata": {},
     "output_type": "execute_result"
    }
   ],
   "source": [
    "df.info()\n",
    "df.isnull().sum()"
   ]
  },
  {
   "cell_type": "code",
   "execution_count": 76,
   "metadata": {},
   "outputs": [
    {
     "data": {
      "image/png": "[encoded data removed]",
      "text/plain": [
       "<Figure size 800x500 with 1 Axes>"
      ]
     },
     "metadata": {},
     "output_type": "display_data"
    }
   ],
   "source": [
    "plt.figure(figsize=(8, 5))\n",
    "sns.countplot(x=\"Churn\", hue=\"Churn\", data=df, palette=\"coolwarm\")\n",
    "\n",
    "plt.title(\"Customer Churn Distribution\")\n",
    "plt.xlabel(\"Churn\")\n",
    "plt.ylabel(\"Count\")\n",
    "plt.show()\n"
   ]
  },
  {
   "cell_type": "code",
   "execution_count": 77,
   "metadata": {},
   "outputs": [
    {
     "data": {
      "image/png": "[encoded data removed]",
      "text/plain": [
       "<Figure size 800x500 with 1 Axes>"
      ]
     },
     "metadata": {},
     "output_type": "display_data"
    }
   ],
   "source": [
    "plt.figure(figsize=(8, 5))\n",
    "sns.boxplot(x=\"Churn\", hue=\"Churn\", y=\"MonthlyCharges\", data=df, palette=\"coolwarm\")\n",
    "\n",
    "plt.title(\"Monthly Charges vs. Churn\")\n",
    "plt.xlabel(\"Churn\")\n",
    "plt.ylabel(\"Monthly Charges\")\n",
    "plt.show()"
   ]
  },
  {
   "cell_type": "code",
   "execution_count": 69,
   "metadata": {},
   "outputs": [
    {
     "data": {
      "image/png": "[encoded data removed]",
      "text/plain": [
       "<Figure size 800x500 with 1 Axes>"
      ]
     },
     "metadata": {},
     "output_type": "display_data"
    }
   ],
   "source": [
    "plt.figure(figsize=(8, 5))\n",
    "sns.histplot(df[\"tenure\"], bins=30, kde=True, color=\"blue\")\n",
    "\n",
    "plt.title(\"Distribution of Customer Tenure\")\n",
    "plt.xlabel(\"Tenure (Months)\")\n",
    "plt.ylabel(\"Count\")\n",
    "plt.show()"
   ]
  },
  {
   "cell_type": "code",
   "execution_count": 70,
   "metadata": {},
   "outputs": [
    {
     "data": {
      "image/png": "[encoded data removed]",
      "text/plain": [
       "<Figure size 800x500 with 1 Axes>"
      ]
     },
     "metadata": {},
     "output_type": "display_data"
    }
   ],
   "source": [
    "plt.figure(figsize=(8, 5))\n",
    "sns.countplot(x=df[\"Contract\"], hue=df[\"Churn\"], palette=\"coolwarm\")\n",
    "\n",
    "plt.title(\"Churn by Contract Type\")\n",
    "plt.xlabel(\"Contract Type\")\n",
    "plt.ylabel(\"Count\")\n",
    "plt.legend(title=\"Churn\", labels=[\"No\", \"Yes\"])\n",
    "plt.show()"
   ]
  }
 ],
 "metadata": {
  "kernelspec": {
   "display_name": "base",
   "language": "python",
   "name": "python3"
  },
  "language_info": {
   "codemirror_mode": {
    "name": "ipython",
    "version": 3
   },
   "file_extension": ".py",
   "mimetype": "text/x-python",
   "name": "python",
   "nbconvert_exporter": "python",
   "pygments_lexer": "ipython3",
   "version": "3.12.7"
  }
 },
 "nbformat": 4,
 "nbformat_minor": 2
}
